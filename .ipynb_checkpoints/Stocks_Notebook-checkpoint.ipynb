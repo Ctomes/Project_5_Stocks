{
 "cells": [
  {
   "cell_type": "markdown",
   "id": "8d415a77",
   "metadata": {},
   "source": [
    "## This Notebook will show the process I used to build a program that creates Stock Predictions.\n",
    "\n",
    "### The stocks considered: \"AAPL\",\"AMZN\",\"GOOGL\",\"MSFT\",\"NFLX\",\"TSLA\",\"NVDA\",\"INTC\"\n"
   ]
  },
  {
   "cell_type": "code",
   "execution_count": 2,
   "id": "16a9098d",
   "metadata": {},
   "outputs": [],
   "source": [
    "import json\n",
    "import pandas as pd\n",
    "from sklearn.linear_model import LinearRegression\n",
    "import datetime\n",
    "import os\n",
    "import update_trends_data\n",
    "import numpy as np\n"
   ]
  }
 ],
 "metadata": {
  "kernelspec": {
   "display_name": "Python 3 (ipykernel)",
   "language": "python",
   "name": "python3"
  },
  "language_info": {
   "codemirror_mode": {
    "name": "ipython",
    "version": 3
   },
   "file_extension": ".py",
   "mimetype": "text/x-python",
   "name": "python",
   "nbconvert_exporter": "python",
   "pygments_lexer": "ipython3",
   "version": "3.10.9"
  }
 },
 "nbformat": 4,
 "nbformat_minor": 5
}
